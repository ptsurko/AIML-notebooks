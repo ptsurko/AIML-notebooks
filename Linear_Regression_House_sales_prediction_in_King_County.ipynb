{
  "nbformat": 4,
  "nbformat_minor": 0,
  "metadata": {
    "kernelspec": {
      "display_name": "Python 3",
      "language": "python",
      "name": "python3"
    },
    "language_info": {
      "codemirror_mode": {
        "name": "ipython",
        "version": 3
      },
      "file_extension": ".py",
      "mimetype": "text/x-python",
      "name": "python",
      "nbconvert_exporter": "python",
      "pygments_lexer": "ipython3",
      "version": "3.7.5"
    },
    "colab": {
      "name": "Linear Regression - House sales prediction in King County.ipynb",
      "provenance": [],
      "collapsed_sections": [],
      "include_colab_link": true
    }
  },
  "cells": [
    {
      "cell_type": "markdown",
      "metadata": {
        "id": "view-in-github",
        "colab_type": "text"
      },
      "source": [
        "<a href=\"https://colab.research.google.com/github/ptsurko/AIML-notebooks/blob/master/Linear_Regression_House_sales_prediction_in_King_County.ipynb\" target=\"_parent\"><img src=\"https://colab.research.google.com/assets/colab-badge.svg\" alt=\"Open In Colab\"/></a>"
      ]
    },
    {
      "cell_type": "markdown",
      "metadata": {
        "id": "1KLDIbSdNs1t",
        "colab_type": "text"
      },
      "source": [
        "# House Sales in King County, USA\n",
        "\n",
        "https://www.kaggle.com/harlfoxem/housesalesprediction"
      ]
    },
    {
      "cell_type": "code",
      "metadata": {
        "_cell_guid": "b1076dfc-b9ad-4769-8c92-a6c4dae69d19",
        "_uuid": "8f2839f25d086af736a60e9eeb907d3b93b6e0e5",
        "id": "2_qoZwCTrfRO",
        "colab_type": "code",
        "colab": {}
      },
      "source": [
        "import os\n",
        "os.environ['KAGGLE_USERNAME'] = \"pavelkey\" # username from the json file\n",
        "os.environ['KAGGLE_KEY'] = \"2d38d31c6d5bdc84afc023ad38f79088\" # key from the json file\n",
        "\n",
        "import numpy as np # linear algebra\n",
        "import pandas as pd # data processing, CSV file I/O (e.g. pd.read_csv)\n",
        "from sklearn.linear_model import LinearRegression\n",
        "from sklearn import metrics\n",
        "from sklearn.model_selection import train_test_split\n",
        "import seaborn as sns\n",
        "import zipfile\n",
        "\n",
        "import matplotlib.pyplot as plt\n",
        "%matplotlib inline"
      ],
      "execution_count": 0,
      "outputs": []
    },
    {
      "cell_type": "code",
      "metadata": {
        "id": "EvPv_Xk_swPh",
        "colab_type": "code",
        "outputId": "c8c9c6b6-b738-40f7-82da-842c339bb50b",
        "colab": {
          "base_uri": "https://localhost:8080/",
          "height": 34
        }
      },
      "source": [
        "!kaggle datasets download -d harlfoxem/housesalesprediction # api copied from kaggle\n",
        "\n",
        "zipref = zipfile.ZipFile('/content/housesalesprediction.zip', 'r')\n",
        "zipref.extractall()\n",
        "zipref.close()\n",
        "\n",
        "data = pd.read_csv('./kc_house_data.csv')"
      ],
      "execution_count": 0,
      "outputs": [
        {
          "output_type": "stream",
          "text": [
            "housesalesprediction.zip: Skipping, found more recently modified local copy (use --force to force download)\n"
          ],
          "name": "stdout"
        }
      ]
    },
    {
      "cell_type": "code",
      "metadata": {
        "scrolled": false,
        "id": "LJ41OINfrfRV",
        "colab_type": "code",
        "outputId": "1453766a-e32b-4c7c-8659-d525a8d55aa7",
        "colab": {
          "base_uri": "https://localhost:8080/",
          "height": 224
        }
      },
      "source": [
        "data.head()"
      ],
      "execution_count": 0,
      "outputs": [
        {
          "output_type": "execute_result",
          "data": {
            "text/html": [
              "<div>\n",
              "<style scoped>\n",
              "    .dataframe tbody tr th:only-of-type {\n",
              "        vertical-align: middle;\n",
              "    }\n",
              "\n",
              "    .dataframe tbody tr th {\n",
              "        vertical-align: top;\n",
              "    }\n",
              "\n",
              "    .dataframe thead th {\n",
              "        text-align: right;\n",
              "    }\n",
              "</style>\n",
              "<table border=\"1\" class=\"dataframe\">\n",
              "  <thead>\n",
              "    <tr style=\"text-align: right;\">\n",
              "      <th></th>\n",
              "      <th>id</th>\n",
              "      <th>date</th>\n",
              "      <th>price</th>\n",
              "      <th>bedrooms</th>\n",
              "      <th>bathrooms</th>\n",
              "      <th>sqft_living</th>\n",
              "      <th>sqft_lot</th>\n",
              "      <th>floors</th>\n",
              "      <th>waterfront</th>\n",
              "      <th>view</th>\n",
              "      <th>condition</th>\n",
              "      <th>grade</th>\n",
              "      <th>sqft_above</th>\n",
              "      <th>sqft_basement</th>\n",
              "      <th>yr_built</th>\n",
              "      <th>yr_renovated</th>\n",
              "      <th>zipcode</th>\n",
              "      <th>lat</th>\n",
              "      <th>long</th>\n",
              "      <th>sqft_living15</th>\n",
              "      <th>sqft_lot15</th>\n",
              "    </tr>\n",
              "  </thead>\n",
              "  <tbody>\n",
              "    <tr>\n",
              "      <th>0</th>\n",
              "      <td>7129300520</td>\n",
              "      <td>20141013T000000</td>\n",
              "      <td>221900.0</td>\n",
              "      <td>3</td>\n",
              "      <td>1.00</td>\n",
              "      <td>1180</td>\n",
              "      <td>5650</td>\n",
              "      <td>1.0</td>\n",
              "      <td>0</td>\n",
              "      <td>0</td>\n",
              "      <td>3</td>\n",
              "      <td>7</td>\n",
              "      <td>1180</td>\n",
              "      <td>0</td>\n",
              "      <td>1955</td>\n",
              "      <td>0</td>\n",
              "      <td>98178</td>\n",
              "      <td>47.5112</td>\n",
              "      <td>-122.257</td>\n",
              "      <td>1340</td>\n",
              "      <td>5650</td>\n",
              "    </tr>\n",
              "    <tr>\n",
              "      <th>1</th>\n",
              "      <td>6414100192</td>\n",
              "      <td>20141209T000000</td>\n",
              "      <td>538000.0</td>\n",
              "      <td>3</td>\n",
              "      <td>2.25</td>\n",
              "      <td>2570</td>\n",
              "      <td>7242</td>\n",
              "      <td>2.0</td>\n",
              "      <td>0</td>\n",
              "      <td>0</td>\n",
              "      <td>3</td>\n",
              "      <td>7</td>\n",
              "      <td>2170</td>\n",
              "      <td>400</td>\n",
              "      <td>1951</td>\n",
              "      <td>1991</td>\n",
              "      <td>98125</td>\n",
              "      <td>47.7210</td>\n",
              "      <td>-122.319</td>\n",
              "      <td>1690</td>\n",
              "      <td>7639</td>\n",
              "    </tr>\n",
              "    <tr>\n",
              "      <th>2</th>\n",
              "      <td>5631500400</td>\n",
              "      <td>20150225T000000</td>\n",
              "      <td>180000.0</td>\n",
              "      <td>2</td>\n",
              "      <td>1.00</td>\n",
              "      <td>770</td>\n",
              "      <td>10000</td>\n",
              "      <td>1.0</td>\n",
              "      <td>0</td>\n",
              "      <td>0</td>\n",
              "      <td>3</td>\n",
              "      <td>6</td>\n",
              "      <td>770</td>\n",
              "      <td>0</td>\n",
              "      <td>1933</td>\n",
              "      <td>0</td>\n",
              "      <td>98028</td>\n",
              "      <td>47.7379</td>\n",
              "      <td>-122.233</td>\n",
              "      <td>2720</td>\n",
              "      <td>8062</td>\n",
              "    </tr>\n",
              "    <tr>\n",
              "      <th>3</th>\n",
              "      <td>2487200875</td>\n",
              "      <td>20141209T000000</td>\n",
              "      <td>604000.0</td>\n",
              "      <td>4</td>\n",
              "      <td>3.00</td>\n",
              "      <td>1960</td>\n",
              "      <td>5000</td>\n",
              "      <td>1.0</td>\n",
              "      <td>0</td>\n",
              "      <td>0</td>\n",
              "      <td>5</td>\n",
              "      <td>7</td>\n",
              "      <td>1050</td>\n",
              "      <td>910</td>\n",
              "      <td>1965</td>\n",
              "      <td>0</td>\n",
              "      <td>98136</td>\n",
              "      <td>47.5208</td>\n",
              "      <td>-122.393</td>\n",
              "      <td>1360</td>\n",
              "      <td>5000</td>\n",
              "    </tr>\n",
              "    <tr>\n",
              "      <th>4</th>\n",
              "      <td>1954400510</td>\n",
              "      <td>20150218T000000</td>\n",
              "      <td>510000.0</td>\n",
              "      <td>3</td>\n",
              "      <td>2.00</td>\n",
              "      <td>1680</td>\n",
              "      <td>8080</td>\n",
              "      <td>1.0</td>\n",
              "      <td>0</td>\n",
              "      <td>0</td>\n",
              "      <td>3</td>\n",
              "      <td>8</td>\n",
              "      <td>1680</td>\n",
              "      <td>0</td>\n",
              "      <td>1987</td>\n",
              "      <td>0</td>\n",
              "      <td>98074</td>\n",
              "      <td>47.6168</td>\n",
              "      <td>-122.045</td>\n",
              "      <td>1800</td>\n",
              "      <td>7503</td>\n",
              "    </tr>\n",
              "  </tbody>\n",
              "</table>\n",
              "</div>"
            ],
            "text/plain": [
              "           id             date     price  ...     long  sqft_living15  sqft_lot15\n",
              "0  7129300520  20141013T000000  221900.0  ... -122.257           1340        5650\n",
              "1  6414100192  20141209T000000  538000.0  ... -122.319           1690        7639\n",
              "2  5631500400  20150225T000000  180000.0  ... -122.233           2720        8062\n",
              "3  2487200875  20141209T000000  604000.0  ... -122.393           1360        5000\n",
              "4  1954400510  20150218T000000  510000.0  ... -122.045           1800        7503\n",
              "\n",
              "[5 rows x 21 columns]"
            ]
          },
          "metadata": {
            "tags": []
          },
          "execution_count": 3
        }
      ]
    },
    {
      "cell_type": "code",
      "metadata": {
        "id": "ZAi-50aDul2E",
        "colab_type": "code",
        "outputId": "6f3e1814-d352-4170-c960-1986abb38573",
        "colab": {
          "base_uri": "https://localhost:8080/",
          "height": 317
        }
      },
      "source": [
        "data.describe()"
      ],
      "execution_count": 0,
      "outputs": [
        {
          "output_type": "execute_result",
          "data": {
            "text/html": [
              "<div>\n",
              "<style scoped>\n",
              "    .dataframe tbody tr th:only-of-type {\n",
              "        vertical-align: middle;\n",
              "    }\n",
              "\n",
              "    .dataframe tbody tr th {\n",
              "        vertical-align: top;\n",
              "    }\n",
              "\n",
              "    .dataframe thead th {\n",
              "        text-align: right;\n",
              "    }\n",
              "</style>\n",
              "<table border=\"1\" class=\"dataframe\">\n",
              "  <thead>\n",
              "    <tr style=\"text-align: right;\">\n",
              "      <th></th>\n",
              "      <th>id</th>\n",
              "      <th>price</th>\n",
              "      <th>bedrooms</th>\n",
              "      <th>bathrooms</th>\n",
              "      <th>sqft_living</th>\n",
              "      <th>sqft_lot</th>\n",
              "      <th>floors</th>\n",
              "      <th>waterfront</th>\n",
              "      <th>view</th>\n",
              "      <th>condition</th>\n",
              "      <th>grade</th>\n",
              "      <th>sqft_above</th>\n",
              "      <th>sqft_basement</th>\n",
              "      <th>yr_built</th>\n",
              "      <th>yr_renovated</th>\n",
              "      <th>zipcode</th>\n",
              "      <th>lat</th>\n",
              "      <th>long</th>\n",
              "      <th>sqft_living15</th>\n",
              "      <th>sqft_lot15</th>\n",
              "    </tr>\n",
              "  </thead>\n",
              "  <tbody>\n",
              "    <tr>\n",
              "      <th>count</th>\n",
              "      <td>2.161300e+04</td>\n",
              "      <td>2.161300e+04</td>\n",
              "      <td>21613.000000</td>\n",
              "      <td>21613.000000</td>\n",
              "      <td>21613.000000</td>\n",
              "      <td>2.161300e+04</td>\n",
              "      <td>21613.000000</td>\n",
              "      <td>21613.000000</td>\n",
              "      <td>21613.000000</td>\n",
              "      <td>21613.000000</td>\n",
              "      <td>21613.000000</td>\n",
              "      <td>21613.000000</td>\n",
              "      <td>21613.000000</td>\n",
              "      <td>21613.000000</td>\n",
              "      <td>21613.000000</td>\n",
              "      <td>21613.000000</td>\n",
              "      <td>21613.000000</td>\n",
              "      <td>21613.000000</td>\n",
              "      <td>21613.000000</td>\n",
              "      <td>21613.000000</td>\n",
              "    </tr>\n",
              "    <tr>\n",
              "      <th>mean</th>\n",
              "      <td>4.580302e+09</td>\n",
              "      <td>5.400881e+05</td>\n",
              "      <td>3.370842</td>\n",
              "      <td>2.114757</td>\n",
              "      <td>2079.899736</td>\n",
              "      <td>1.510697e+04</td>\n",
              "      <td>1.494309</td>\n",
              "      <td>0.007542</td>\n",
              "      <td>0.234303</td>\n",
              "      <td>3.409430</td>\n",
              "      <td>7.656873</td>\n",
              "      <td>1788.390691</td>\n",
              "      <td>291.509045</td>\n",
              "      <td>1971.005136</td>\n",
              "      <td>84.402258</td>\n",
              "      <td>98077.939805</td>\n",
              "      <td>47.560053</td>\n",
              "      <td>-122.213896</td>\n",
              "      <td>1986.552492</td>\n",
              "      <td>12768.455652</td>\n",
              "    </tr>\n",
              "    <tr>\n",
              "      <th>std</th>\n",
              "      <td>2.876566e+09</td>\n",
              "      <td>3.671272e+05</td>\n",
              "      <td>0.930062</td>\n",
              "      <td>0.770163</td>\n",
              "      <td>918.440897</td>\n",
              "      <td>4.142051e+04</td>\n",
              "      <td>0.539989</td>\n",
              "      <td>0.086517</td>\n",
              "      <td>0.766318</td>\n",
              "      <td>0.650743</td>\n",
              "      <td>1.175459</td>\n",
              "      <td>828.090978</td>\n",
              "      <td>442.575043</td>\n",
              "      <td>29.373411</td>\n",
              "      <td>401.679240</td>\n",
              "      <td>53.505026</td>\n",
              "      <td>0.138564</td>\n",
              "      <td>0.140828</td>\n",
              "      <td>685.391304</td>\n",
              "      <td>27304.179631</td>\n",
              "    </tr>\n",
              "    <tr>\n",
              "      <th>min</th>\n",
              "      <td>1.000102e+06</td>\n",
              "      <td>7.500000e+04</td>\n",
              "      <td>0.000000</td>\n",
              "      <td>0.000000</td>\n",
              "      <td>290.000000</td>\n",
              "      <td>5.200000e+02</td>\n",
              "      <td>1.000000</td>\n",
              "      <td>0.000000</td>\n",
              "      <td>0.000000</td>\n",
              "      <td>1.000000</td>\n",
              "      <td>1.000000</td>\n",
              "      <td>290.000000</td>\n",
              "      <td>0.000000</td>\n",
              "      <td>1900.000000</td>\n",
              "      <td>0.000000</td>\n",
              "      <td>98001.000000</td>\n",
              "      <td>47.155900</td>\n",
              "      <td>-122.519000</td>\n",
              "      <td>399.000000</td>\n",
              "      <td>651.000000</td>\n",
              "    </tr>\n",
              "    <tr>\n",
              "      <th>25%</th>\n",
              "      <td>2.123049e+09</td>\n",
              "      <td>3.219500e+05</td>\n",
              "      <td>3.000000</td>\n",
              "      <td>1.750000</td>\n",
              "      <td>1427.000000</td>\n",
              "      <td>5.040000e+03</td>\n",
              "      <td>1.000000</td>\n",
              "      <td>0.000000</td>\n",
              "      <td>0.000000</td>\n",
              "      <td>3.000000</td>\n",
              "      <td>7.000000</td>\n",
              "      <td>1190.000000</td>\n",
              "      <td>0.000000</td>\n",
              "      <td>1951.000000</td>\n",
              "      <td>0.000000</td>\n",
              "      <td>98033.000000</td>\n",
              "      <td>47.471000</td>\n",
              "      <td>-122.328000</td>\n",
              "      <td>1490.000000</td>\n",
              "      <td>5100.000000</td>\n",
              "    </tr>\n",
              "    <tr>\n",
              "      <th>50%</th>\n",
              "      <td>3.904930e+09</td>\n",
              "      <td>4.500000e+05</td>\n",
              "      <td>3.000000</td>\n",
              "      <td>2.250000</td>\n",
              "      <td>1910.000000</td>\n",
              "      <td>7.618000e+03</td>\n",
              "      <td>1.500000</td>\n",
              "      <td>0.000000</td>\n",
              "      <td>0.000000</td>\n",
              "      <td>3.000000</td>\n",
              "      <td>7.000000</td>\n",
              "      <td>1560.000000</td>\n",
              "      <td>0.000000</td>\n",
              "      <td>1975.000000</td>\n",
              "      <td>0.000000</td>\n",
              "      <td>98065.000000</td>\n",
              "      <td>47.571800</td>\n",
              "      <td>-122.230000</td>\n",
              "      <td>1840.000000</td>\n",
              "      <td>7620.000000</td>\n",
              "    </tr>\n",
              "    <tr>\n",
              "      <th>75%</th>\n",
              "      <td>7.308900e+09</td>\n",
              "      <td>6.450000e+05</td>\n",
              "      <td>4.000000</td>\n",
              "      <td>2.500000</td>\n",
              "      <td>2550.000000</td>\n",
              "      <td>1.068800e+04</td>\n",
              "      <td>2.000000</td>\n",
              "      <td>0.000000</td>\n",
              "      <td>0.000000</td>\n",
              "      <td>4.000000</td>\n",
              "      <td>8.000000</td>\n",
              "      <td>2210.000000</td>\n",
              "      <td>560.000000</td>\n",
              "      <td>1997.000000</td>\n",
              "      <td>0.000000</td>\n",
              "      <td>98118.000000</td>\n",
              "      <td>47.678000</td>\n",
              "      <td>-122.125000</td>\n",
              "      <td>2360.000000</td>\n",
              "      <td>10083.000000</td>\n",
              "    </tr>\n",
              "    <tr>\n",
              "      <th>max</th>\n",
              "      <td>9.900000e+09</td>\n",
              "      <td>7.700000e+06</td>\n",
              "      <td>33.000000</td>\n",
              "      <td>8.000000</td>\n",
              "      <td>13540.000000</td>\n",
              "      <td>1.651359e+06</td>\n",
              "      <td>3.500000</td>\n",
              "      <td>1.000000</td>\n",
              "      <td>4.000000</td>\n",
              "      <td>5.000000</td>\n",
              "      <td>13.000000</td>\n",
              "      <td>9410.000000</td>\n",
              "      <td>4820.000000</td>\n",
              "      <td>2015.000000</td>\n",
              "      <td>2015.000000</td>\n",
              "      <td>98199.000000</td>\n",
              "      <td>47.777600</td>\n",
              "      <td>-121.315000</td>\n",
              "      <td>6210.000000</td>\n",
              "      <td>871200.000000</td>\n",
              "    </tr>\n",
              "  </tbody>\n",
              "</table>\n",
              "</div>"
            ],
            "text/plain": [
              "                 id         price  ...  sqft_living15     sqft_lot15\n",
              "count  2.161300e+04  2.161300e+04  ...   21613.000000   21613.000000\n",
              "mean   4.580302e+09  5.400881e+05  ...    1986.552492   12768.455652\n",
              "std    2.876566e+09  3.671272e+05  ...     685.391304   27304.179631\n",
              "min    1.000102e+06  7.500000e+04  ...     399.000000     651.000000\n",
              "25%    2.123049e+09  3.219500e+05  ...    1490.000000    5100.000000\n",
              "50%    3.904930e+09  4.500000e+05  ...    1840.000000    7620.000000\n",
              "75%    7.308900e+09  6.450000e+05  ...    2360.000000   10083.000000\n",
              "max    9.900000e+09  7.700000e+06  ...    6210.000000  871200.000000\n",
              "\n",
              "[8 rows x 20 columns]"
            ]
          },
          "metadata": {
            "tags": []
          },
          "execution_count": 4
        }
      ]
    },
    {
      "cell_type": "code",
      "metadata": {
        "id": "WnotrhxKrfRa",
        "colab_type": "code",
        "colab": {}
      },
      "source": [
        "data_cleaned = data.drop(['id','date'], axis = 1)"
      ],
      "execution_count": 0,
      "outputs": []
    },
    {
      "cell_type": "markdown",
      "metadata": {
        "id": "-UvwCbdsrfRg",
        "colab_type": "text"
      },
      "source": [
        "# Single feature regression"
      ]
    },
    {
      "cell_type": "code",
      "metadata": {
        "_cell_guid": "79c7e3d0-c299-4dcb-8224-4455121ee9b0",
        "_uuid": "d629ff2d2480ee46fbb7e2d37f6b5fab8052498a",
        "id": "RluQx8ocrfRi",
        "colab_type": "code",
        "colab": {}
      },
      "source": [
        "feature = 'sqft_living'\n",
        "X = data_cleaned[feature].values.reshape(-1, 1)\n",
        "y = data_cleaned['price']\n",
        "\n",
        "# splitting data\n",
        "X_train, X_test, y_train, y_test = train_test_split(X, y, test_size=0.2)"
      ],
      "execution_count": 0,
      "outputs": []
    },
    {
      "cell_type": "code",
      "metadata": {
        "id": "01FATfM0rfRr",
        "colab_type": "code",
        "outputId": "c6a432e6-6b07-4f3e-e585-3540bef52487",
        "colab": {
          "base_uri": "https://localhost:8080/",
          "height": 344
        }
      },
      "source": [
        "reg = LinearRegression()\n",
        "reg.fit(X_train, y_train)\n",
        "print('score(train): ', reg.score(X_train, y_train))\n",
        "print('score(test) : ', reg.score(X_test, y_test))\n",
        "\n",
        "print('Coef     : ', reg.coef_)\n",
        "print('Intercept: ', reg.intercept_)\n",
        "\n",
        "y_pred = reg.predict(X_test)\n",
        "\n",
        "print('Mean Absolute Error:', metrics.mean_absolute_error(y_test, y_pred))  \n",
        "print('Mean Squared Error:', metrics.mean_squared_error(y_test, y_pred))  \n",
        "print('Root Mean Squared Error:', np.sqrt(metrics.mean_squared_error(y_test, y_pred)))\n",
        "print('R squared : ', metrics.r2_score(y_test, y_pred))\n",
        "\n",
        "pd.DataFrame(np.stack((y_test, y_pred), axis=1), columns=['test', 'pred']).head()"
      ],
      "execution_count": 0,
      "outputs": [
        {
          "output_type": "stream",
          "text": [
            "score(train):  0.497184652146727\n",
            "score(test) :  0.47446561582166136\n",
            "Coef     :  [283.18310605]\n",
            "Intercept:  -48592.53859591903\n",
            "Mean Absolute Error: 176581.05018395314\n",
            "Mean Squared Error: 68214975527.265236\n",
            "Root Mean Squared Error: 261179.96769902785\n",
            "R squared :  0.47446561582166136\n"
          ],
          "name": "stdout"
        },
        {
          "output_type": "execute_result",
          "data": {
            "text/html": [
              "<div>\n",
              "<style scoped>\n",
              "    .dataframe tbody tr th:only-of-type {\n",
              "        vertical-align: middle;\n",
              "    }\n",
              "\n",
              "    .dataframe tbody tr th {\n",
              "        vertical-align: top;\n",
              "    }\n",
              "\n",
              "    .dataframe thead th {\n",
              "        text-align: right;\n",
              "    }\n",
              "</style>\n",
              "<table border=\"1\" class=\"dataframe\">\n",
              "  <thead>\n",
              "    <tr style=\"text-align: right;\">\n",
              "      <th></th>\n",
              "      <th>test</th>\n",
              "      <th>pred</th>\n",
              "    </tr>\n",
              "  </thead>\n",
              "  <tbody>\n",
              "    <tr>\n",
              "      <th>0</th>\n",
              "      <td>480000.0</td>\n",
              "      <td>7.075064e+05</td>\n",
              "    </tr>\n",
              "    <tr>\n",
              "      <th>1</th>\n",
              "      <td>308550.0</td>\n",
              "      <td>4.045004e+05</td>\n",
              "    </tr>\n",
              "    <tr>\n",
              "      <th>2</th>\n",
              "      <td>427000.0</td>\n",
              "      <td>5.800740e+05</td>\n",
              "    </tr>\n",
              "    <tr>\n",
              "      <th>3</th>\n",
              "      <td>315000.0</td>\n",
              "      <td>4.894554e+05</td>\n",
              "    </tr>\n",
              "    <tr>\n",
              "      <th>4</th>\n",
              "      <td>925000.0</td>\n",
              "      <td>1.098299e+06</td>\n",
              "    </tr>\n",
              "  </tbody>\n",
              "</table>\n",
              "</div>"
            ],
            "text/plain": [
              "       test          pred\n",
              "0  480000.0  7.075064e+05\n",
              "1  308550.0  4.045004e+05\n",
              "2  427000.0  5.800740e+05\n",
              "3  315000.0  4.894554e+05\n",
              "4  925000.0  1.098299e+06"
            ]
          },
          "metadata": {
            "tags": []
          },
          "execution_count": 64
        }
      ]
    },
    {
      "cell_type": "code",
      "metadata": {
        "scrolled": true,
        "id": "0sZFFwxkrfRv",
        "colab_type": "code",
        "outputId": "43ce6fc3-6e9d-4247-d07c-7aba3ee33862",
        "colab": {
          "base_uri": "https://localhost:8080/",
          "height": 296
        }
      },
      "source": [
        "min_max = [[X.min()], [X.max()]]\n",
        "plt.scatter(X, y)  \n",
        "plt.plot(min_max, reg.predict(min_max),color='k')\n",
        "plt.title(feature + ' vs Price')  \n",
        "plt.xlabel(feature)  \n",
        "plt.ylabel('Price')  \n",
        "plt.show()"
      ],
      "execution_count": 0,
      "outputs": [
        {
          "output_type": "display_data",
          "data": {
            "image/png": "[encoded data removed]",
            "text/plain": [
              "<Figure size 432x288 with 1 Axes>"
            ]
          },
          "metadata": {
            "tags": []
          }
        }
      ]
    },
    {
      "cell_type": "markdown",
      "metadata": {
        "id": "coEd35RTAXxY",
        "colab_type": "text"
      },
      "source": [
        "# Tensorflow NN"
      ]
    },
    {
      "cell_type": "code",
      "metadata": {
        "id": "3Fsj9BuiAjQA",
        "colab_type": "code",
        "colab": {}
      },
      "source": [
        "%tensorflow_version 2.x\n",
        "import tensorflow as tf\n",
        "from sklearn.preprocessing import StandardScaler"
      ],
      "execution_count": 0,
      "outputs": []
    },
    {
      "cell_type": "code",
      "metadata": {
        "id": "o5vsqJGHAVwl",
        "colab_type": "code",
        "colab": {}
      },
      "source": [
        "X = data_cleaned[feature].values.reshape(-1, 1).astype(float)\n",
        "y = data_cleaned['price'].values.reshape(-1, 1).astype(float)\n",
        "\n",
        "X_train, X_test, y_train, y_test = train_test_split(X, y, test_size=0.2)"
      ],
      "execution_count": 0,
      "outputs": []
    },
    {
      "cell_type": "code",
      "metadata": {
        "id": "-yCqS2ynA_Hn",
        "colab_type": "code",
        "outputId": "8718325d-b840-473a-de0f-a7e460b03993",
        "colab": {
          "base_uri": "https://localhost:8080/",
          "height": 1000
        }
      },
      "source": [
        "model = tf.keras.Sequential([\n",
        "  tf.keras.layers.Dense(units=1, input_shape=[1])\n",
        "])\n",
        "\n",
        "# lr - depends on features. Ex bedrooms - 0.5, sqft_living - 0.00005\n",
        "optimizer = tf.keras.optimizers.SGD(lr=0.00005, momentum=0.9)\n",
        "\n",
        "model.compile(optimizer='sgd', loss='mean_absolute_error', metrics=['mae'])\n",
        "model.summary()\n",
        "\n",
        "history = model.fit(X_train, y_train, epochs=50, verbose=1, validation_data=(X_test, y_test))"
      ],
      "execution_count": 0,
      "outputs": [
        {
          "output_type": "stream",
          "text": [
            "Model: \"sequential_12\"\n",
            "_________________________________________________________________\n",
            "Layer (type)                 Output Shape              Param #   \n",
            "=================================================================\n",
            "dense_12 (Dense)             (None, 1)                 2         \n",
            "=================================================================\n",
            "Total params: 2\n",
            "Trainable params: 2\n",
            "Non-trainable params: 0\n",
            "_________________________________________________________________\n",
            "Train on 17290 samples, validate on 4323 samples\n",
            "Epoch 1/50\n",
            "17290/17290 [==============================] - 1s 60us/sample - loss: 173172.5998 - mae: 173172.5469 - val_loss: 163605.5588 - val_mae: 163605.5625\n",
            "Epoch 2/50\n",
            "17290/17290 [==============================] - 1s 47us/sample - loss: 169405.7756 - mae: 169405.7344 - val_loss: 163347.0475 - val_mae: 163347.0312\n",
            "Epoch 3/50\n",
            "17290/17290 [==============================] - 1s 50us/sample - loss: 169151.3920 - mae: 169151.4375 - val_loss: 163202.3684 - val_mae: 163202.3594\n",
            "Epoch 4/50\n",
            "17290/17290 [==============================] - 1s 46us/sample - loss: 169285.0732 - mae: 169285.0156 - val_loss: 164961.4775 - val_mae: 164961.4688\n",
            "Epoch 5/50\n",
            "17290/17290 [==============================] - 1s 47us/sample - loss: 169174.6430 - mae: 169174.6719 - val_loss: 162978.5870 - val_mae: 162978.5781\n",
            "Epoch 6/50\n",
            "17290/17290 [==============================] - 1s 48us/sample - loss: 169404.3244 - mae: 169404.3125 - val_loss: 163329.9425 - val_mae: 163330.0000\n",
            "Epoch 7/50\n",
            "17290/17290 [==============================] - 1s 47us/sample - loss: 169307.4675 - mae: 169307.4062 - val_loss: 163037.7802 - val_mae: 163037.8281\n",
            "Epoch 8/50\n",
            "17290/17290 [==============================] - 1s 49us/sample - loss: 169240.8949 - mae: 169240.8906 - val_loss: 163191.9115 - val_mae: 163191.8750\n",
            "Epoch 9/50\n",
            "17290/17290 [==============================] - 1s 49us/sample - loss: 169355.3376 - mae: 169355.3594 - val_loss: 163761.0763 - val_mae: 163761.1406\n",
            "Epoch 10/50\n",
            "17290/17290 [==============================] - 1s 49us/sample - loss: 169328.1006 - mae: 169328.0625 - val_loss: 163021.2365 - val_mae: 163021.2969\n",
            "Epoch 11/50\n",
            "17290/17290 [==============================] - 1s 47us/sample - loss: 169312.6925 - mae: 169312.7812 - val_loss: 165611.4920 - val_mae: 165611.4688\n",
            "Epoch 12/50\n",
            "17290/17290 [==============================] - 1s 46us/sample - loss: 169379.8103 - mae: 169379.7656 - val_loss: 163010.9113 - val_mae: 163010.8906\n",
            "Epoch 13/50\n",
            "17290/17290 [==============================] - 1s 46us/sample - loss: 169310.6909 - mae: 169310.7656 - val_loss: 163163.9621 - val_mae: 163163.9844\n",
            "Epoch 14/50\n",
            "17290/17290 [==============================] - 1s 47us/sample - loss: 169254.6482 - mae: 169254.5781 - val_loss: 163045.9576 - val_mae: 163045.9844\n",
            "Epoch 15/50\n",
            "17290/17290 [==============================] - 1s 49us/sample - loss: 169270.2310 - mae: 169270.2812 - val_loss: 163051.7111 - val_mae: 163051.7188\n",
            "Epoch 16/50\n",
            "17290/17290 [==============================] - 1s 49us/sample - loss: 169259.3829 - mae: 169259.4375 - val_loss: 163435.8550 - val_mae: 163435.8594\n",
            "Epoch 17/50\n",
            "17290/17290 [==============================] - 1s 46us/sample - loss: 169348.8970 - mae: 169348.8438 - val_loss: 163012.8903 - val_mae: 163012.8906\n",
            "Epoch 18/50\n",
            "17290/17290 [==============================] - 1s 47us/sample - loss: 169248.8055 - mae: 169248.7812 - val_loss: 162985.3052 - val_mae: 162985.3594\n",
            "Epoch 19/50\n",
            "17290/17290 [==============================] - 1s 47us/sample - loss: 169388.0466 - mae: 169388.0781 - val_loss: 162951.0141 - val_mae: 162950.9531\n",
            "Epoch 20/50\n",
            "17290/17290 [==============================] - 1s 48us/sample - loss: 169310.1126 - mae: 169310.0781 - val_loss: 163398.4914 - val_mae: 163398.4844\n",
            "Epoch 21/50\n",
            "17290/17290 [==============================] - 1s 47us/sample - loss: 169446.1641 - mae: 169446.2031 - val_loss: 164449.8208 - val_mae: 164449.8125\n",
            "Epoch 22/50\n",
            "17290/17290 [==============================] - 1s 47us/sample - loss: 169390.1898 - mae: 169390.3594 - val_loss: 162961.1706 - val_mae: 162961.1875\n",
            "Epoch 23/50\n",
            "17290/17290 [==============================] - 1s 48us/sample - loss: 169407.8887 - mae: 169407.9219 - val_loss: 163312.3578 - val_mae: 163312.3750\n",
            "Epoch 24/50\n",
            "17290/17290 [==============================] - 1s 47us/sample - loss: 169269.3417 - mae: 169269.4062 - val_loss: 163333.3034 - val_mae: 163333.2812\n",
            "Epoch 25/50\n",
            "17290/17290 [==============================] - 1s 46us/sample - loss: 169227.4497 - mae: 169227.4844 - val_loss: 162981.5262 - val_mae: 162981.5000\n",
            "Epoch 26/50\n",
            "17290/17290 [==============================] - 1s 45us/sample - loss: 169418.4976 - mae: 169418.5156 - val_loss: 162950.6790 - val_mae: 162950.6875\n",
            "Epoch 27/50\n",
            "17290/17290 [==============================] - 1s 49us/sample - loss: 169183.4117 - mae: 169183.3438 - val_loss: 170476.8572 - val_mae: 170476.8125\n",
            "Epoch 28/50\n",
            "17290/17290 [==============================] - 1s 45us/sample - loss: 169399.2924 - mae: 169399.3281 - val_loss: 163658.7949 - val_mae: 163658.7656\n",
            "Epoch 29/50\n",
            "17290/17290 [==============================] - 1s 47us/sample - loss: 169386.1263 - mae: 169386.1094 - val_loss: 163057.3345 - val_mae: 163057.3438\n",
            "Epoch 30/50\n",
            "17290/17290 [==============================] - 1s 46us/sample - loss: 169345.5504 - mae: 169345.5312 - val_loss: 164418.9640 - val_mae: 164418.9531\n",
            "Epoch 31/50\n",
            "17290/17290 [==============================] - 1s 45us/sample - loss: 169353.6433 - mae: 169353.5000 - val_loss: 163254.4815 - val_mae: 163254.5000\n",
            "Epoch 32/50\n",
            "17290/17290 [==============================] - 1s 47us/sample - loss: 169255.8794 - mae: 169255.8750 - val_loss: 169113.4123 - val_mae: 169113.4375\n",
            "Epoch 33/50\n",
            "17290/17290 [==============================] - 1s 45us/sample - loss: 169376.0386 - mae: 169375.9219 - val_loss: 162962.5069 - val_mae: 162962.4531\n",
            "Epoch 34/50\n",
            "17290/17290 [==============================] - 1s 47us/sample - loss: 169344.9262 - mae: 169344.8438 - val_loss: 164698.1452 - val_mae: 164698.1250\n",
            "Epoch 35/50\n",
            "17290/17290 [==============================] - 1s 46us/sample - loss: 169400.1236 - mae: 169400.0938 - val_loss: 164292.7813 - val_mae: 164292.7812\n",
            "Epoch 36/50\n",
            "17290/17290 [==============================] - 1s 48us/sample - loss: 169391.7841 - mae: 169391.7656 - val_loss: 163149.5345 - val_mae: 163149.5156\n",
            "Epoch 37/50\n",
            "17290/17290 [==============================] - 1s 46us/sample - loss: 169350.7606 - mae: 169350.7656 - val_loss: 163923.3150 - val_mae: 163923.3594\n",
            "Epoch 38/50\n",
            "17290/17290 [==============================] - 1s 46us/sample - loss: 169364.2660 - mae: 169364.2031 - val_loss: 163131.1157 - val_mae: 163131.1094\n",
            "Epoch 39/50\n",
            "17290/17290 [==============================] - 1s 49us/sample - loss: 169344.7938 - mae: 169344.8125 - val_loss: 162996.2706 - val_mae: 162996.2969\n",
            "Epoch 40/50\n",
            "17290/17290 [==============================] - 1s 48us/sample - loss: 169313.4848 - mae: 169313.4062 - val_loss: 162974.3532 - val_mae: 162974.3125\n",
            "Epoch 41/50\n",
            "17290/17290 [==============================] - 1s 46us/sample - loss: 169383.9853 - mae: 169384.0000 - val_loss: 165525.6627 - val_mae: 165525.6406\n",
            "Epoch 42/50\n",
            "17290/17290 [==============================] - 1s 47us/sample - loss: 169280.7009 - mae: 169280.6406 - val_loss: 162948.4259 - val_mae: 162948.4375\n",
            "Epoch 43/50\n",
            "17290/17290 [==============================] - 1s 45us/sample - loss: 169265.5902 - mae: 169265.6250 - val_loss: 163035.3726 - val_mae: 163035.3594\n",
            "Epoch 44/50\n",
            "17290/17290 [==============================] - 1s 47us/sample - loss: 169457.4062 - mae: 169457.3906 - val_loss: 163020.7637 - val_mae: 163020.7500\n",
            "Epoch 45/50\n",
            "17290/17290 [==============================] - 1s 46us/sample - loss: 169317.4625 - mae: 169317.3281 - val_loss: 162993.2923 - val_mae: 162993.2656\n",
            "Epoch 46/50\n",
            "17290/17290 [==============================] - 1s 47us/sample - loss: 169252.8603 - mae: 169252.9531 - val_loss: 163081.5341 - val_mae: 163081.5312\n",
            "Epoch 47/50\n",
            "17290/17290 [==============================] - 1s 48us/sample - loss: 169317.2102 - mae: 169317.2500 - val_loss: 163079.4187 - val_mae: 163079.4219\n",
            "Epoch 48/50\n",
            "17290/17290 [==============================] - 1s 47us/sample - loss: 169384.7808 - mae: 169384.7969 - val_loss: 163766.5811 - val_mae: 163766.6250\n",
            "Epoch 49/50\n",
            "17290/17290 [==============================] - 1s 46us/sample - loss: 169389.0811 - mae: 169389.0000 - val_loss: 162949.4401 - val_mae: 162949.4219\n",
            "Epoch 50/50\n",
            "17290/17290 [==============================] - 1s 47us/sample - loss: 169175.2922 - mae: 169175.2656 - val_loss: 163234.9168 - val_mae: 163234.8594\n"
          ],
          "name": "stdout"
        }
      ]
    },
    {
      "cell_type": "code",
      "metadata": {
        "id": "iszQ70PdBaEk",
        "colab_type": "code",
        "outputId": "26e2fdfa-1ba5-4594-b8f2-b2cc4408aca1",
        "colab": {
          "base_uri": "https://localhost:8080/",
          "height": 313
        }
      },
      "source": [
        "print('weights: ', model.get_weights())\n",
        "bedrooms = [[X.min()],\n",
        "            [X.max()]]\n",
        "plt.scatter(X, y)  \n",
        "plt.plot(bedrooms, model.predict(bedrooms),color='k')\n",
        "plt.title(feature + ' vs Price')  \n",
        "plt.xlabel(feature)  \n",
        "plt.ylabel('Price')  \n",
        "plt.show()"
      ],
      "execution_count": 0,
      "outputs": [
        {
          "output_type": "stream",
          "text": [
            "weights:  [array([[245.1813]], dtype=float32), array([9.756279], dtype=float32)]\n"
          ],
          "name": "stdout"
        },
        {
          "output_type": "display_data",
          "data": {
            "image/png": "[encoded data removed]",
            "text/plain": [
              "<Figure size 432x288 with 1 Axes>"
            ]
          },
          "metadata": {
            "tags": []
          }
        }
      ]
    },
    {
      "cell_type": "code",
      "metadata": {
        "id": "wylNYjr4-hkb",
        "colab_type": "code",
        "outputId": "e5f9549a-604e-4e2b-9663-ec0802cf9f52",
        "colab": {
          "base_uri": "https://localhost:8080/",
          "height": 279
        }
      },
      "source": [
        "epochs=len(history.history['loss'])\n",
        "\n",
        "plt.figure(figsize=(20,4))\n",
        "\n",
        "plt.subplot(1, 2, 1)\n",
        "plt.plot(range(epochs), history.history['loss'], 'b', label='Loss')\n",
        "plt.plot(range(epochs), history.history['val_loss'], 'r', label='Val loss')\n",
        "plt.xlabel(\"Epochs\")\n",
        "plt.legend()\n",
        "\n",
        "plt.subplot(1, 2, 2)\n",
        "plt.plot(range(epochs), history.history['mae'], 'b', label='Mae')\n",
        "plt.plot(range(epochs), history.history['val_mae'], 'r', label='Val mae')\n",
        "plt.xlabel(\"Epochs\")\n",
        "plt.legend()\n",
        "\n",
        "plt.show()"
      ],
      "execution_count": 0,
      "outputs": [
        {
          "output_type": "display_data",
          "data": {
            "image/png": "[encoded data removed]",
            "text/plain": [
              "<Figure size 1440x288 with 2 Axes>"
            ]
          },
          "metadata": {
            "tags": []
          }
        }
      ]
    },
    {
      "cell_type": "code",
      "metadata": {
        "id": "cTlBoL6D26-o",
        "colab_type": "code",
        "outputId": "a332c314-efd1-4169-b63e-509071514d6c",
        "colab": {
          "base_uri": "https://localhost:8080/",
          "height": 274
        }
      },
      "source": [
        "y_pred = model.predict(X_test)\n",
        "\n",
        "print('Mean Absolute Error:', metrics.mean_absolute_error(y_test, y_pred))  \n",
        "print('Mean Squared Error:', metrics.mean_squared_error(y_test, y_pred))  \n",
        "print('Root Mean Squared Error:', np.sqrt(metrics.mean_squared_error(y_test, y_pred)))\n",
        "print('R squared : ', metrics.r2_score(y_test, y_pred))\n",
        "\n",
        "pd.DataFrame(np.stack((y_test.ravel(), y_pred.ravel()), axis=1), columns=['test', 'pred']).head()"
      ],
      "execution_count": 0,
      "outputs": [
        {
          "output_type": "stream",
          "text": [
            "Mean Absolute Error: 163234.91687810837\n",
            "Mean Squared Error: 61674519576.73968\n",
            "Root Mean Squared Error: 248343.55151028116\n",
            "R squared :  0.4786823381440243\n"
          ],
          "name": "stdout"
        },
        {
          "output_type": "execute_result",
          "data": {
            "text/html": [
              "<div>\n",
              "<style scoped>\n",
              "    .dataframe tbody tr th:only-of-type {\n",
              "        vertical-align: middle;\n",
              "    }\n",
              "\n",
              "    .dataframe tbody tr th {\n",
              "        vertical-align: top;\n",
              "    }\n",
              "\n",
              "    .dataframe thead th {\n",
              "        text-align: right;\n",
              "    }\n",
              "</style>\n",
              "<table border=\"1\" class=\"dataframe\">\n",
              "  <thead>\n",
              "    <tr style=\"text-align: right;\">\n",
              "      <th></th>\n",
              "      <th>test</th>\n",
              "      <th>pred</th>\n",
              "    </tr>\n",
              "  </thead>\n",
              "  <tbody>\n",
              "    <tr>\n",
              "      <th>0</th>\n",
              "      <td>665000.0</td>\n",
              "      <td>593348.50000</td>\n",
              "    </tr>\n",
              "    <tr>\n",
              "      <th>1</th>\n",
              "      <td>380000.0</td>\n",
              "      <td>451143.34375</td>\n",
              "    </tr>\n",
              "    <tr>\n",
              "      <th>2</th>\n",
              "      <td>551500.0</td>\n",
              "      <td>723294.62500</td>\n",
              "    </tr>\n",
              "    <tr>\n",
              "      <th>3</th>\n",
              "      <td>645000.0</td>\n",
              "      <td>556571.31250</td>\n",
              "    </tr>\n",
              "    <tr>\n",
              "      <th>4</th>\n",
              "      <td>340000.0</td>\n",
              "      <td>512438.68750</td>\n",
              "    </tr>\n",
              "  </tbody>\n",
              "</table>\n",
              "</div>"
            ],
            "text/plain": [
              "       test          pred\n",
              "0  665000.0  593348.50000\n",
              "1  380000.0  451143.34375\n",
              "2  551500.0  723294.62500\n",
              "3  645000.0  556571.31250\n",
              "4  340000.0  512438.68750"
            ]
          },
          "metadata": {
            "tags": []
          },
          "execution_count": 87
        }
      ]
    },
    {
      "cell_type": "markdown",
      "metadata": {
        "id": "6VPW-ZcirfR0",
        "colab_type": "text"
      },
      "source": [
        "# Multifeature regression"
      ]
    },
    {
      "cell_type": "code",
      "metadata": {
        "id": "_nY7GD7LrfR1",
        "colab_type": "code",
        "colab": {}
      },
      "source": [
        "X = data_cleaned.iloc[:,1:]\n",
        "y = data_cleaned['price'\n",
        "\n",
        "X_train, X_test, y_train, y_test = train_test_split(X, y, test_size=0.2)"
      ],
      "execution_count": 0,
      "outputs": []
    },
    {
      "cell_type": "code",
      "metadata": {
        "id": "j7-BwEBSrfR4",
        "colab_type": "code",
        "colab": {}
      },
      "source": [
        "with sns.plotting_context(\"notebook\"):\n",
        "    sns.pairplot(data[['sqft_lot','sqft_above','price','sqft_living','bedrooms']], \n",
        "                 hue='bedrooms', palette='tab20', height=3)"
      ],
      "execution_count": 0,
      "outputs": []
    },
    {
      "cell_type": "code",
      "metadata": {
        "id": "8kyek1uurfR7",
        "colab_type": "code",
        "outputId": "d5bdf974-96ed-4012-8108-f074170ee79c",
        "colab": {
          "base_uri": "https://localhost:8080/",
          "height": 414
        }
      },
      "source": [
        "reg = LinearRegression()\n",
        "reg.fit(X_train, y_train)\n",
        "\n",
        "print('score(train): ', reg.score(X_train, y_train))\n",
        "print('score(test) : ', reg.score(X_test, y_test))\n",
        "\n",
        "print('Coef     : ', reg.coef_)\n",
        "print('Intercept: ', reg.intercept_)\n",
        "\n",
        "y_pred = reg.predict(X_test)\n",
        "\n",
        "print('Mean Absolute Error:', metrics.mean_absolute_error(y_test, y_pred))  \n",
        "print('Mean Squared Error:', metrics.mean_squared_error(y_test, y_pred))  \n",
        "print('Root Mean Squared Error:', np.sqrt(metrics.mean_squared_error(y_test, y_pred)))\n",
        "print('R squared : ', metrics.r2_score(y_test, y_pred))\n",
        "\n",
        "pd.DataFrame(np.stack((y_test, y_pred), axis=1), columns=['test', 'pred']).head()"
      ],
      "execution_count": 0,
      "outputs": [
        {
          "output_type": "stream",
          "text": [
            "score(train):  0.6972921803178034\n",
            "score(test) :  0.707562947558846\n",
            "Coef     :  [-3.43780273e+04  3.72818160e+04  1.13248941e+02  1.54795559e-01\n",
            "  5.80939543e+03  5.16620080e+05  5.74441874e+04  2.58834273e+04\n",
            "  9.72841882e+04  7.21728230e+01  4.10761182e+01 -2.55915399e+03\n",
            "  2.29666266e+01 -5.91518729e+02  5.99816169e+05 -2.19722522e+05\n",
            "  1.57499714e+01 -3.94585461e-01]\n",
            "Intercept:  6989419.35870584\n",
            "Mean Absolute Error: 128618.16055328742\n",
            "Mean Squared Error: 41107997024.59818\n",
            "Root Mean Squared Error: 202751.07157447573\n",
            "R squared :  0.707562947558846\n"
          ],
          "name": "stdout"
        },
        {
          "output_type": "execute_result",
          "data": {
            "text/html": [
              "<div>\n",
              "<style scoped>\n",
              "    .dataframe tbody tr th:only-of-type {\n",
              "        vertical-align: middle;\n",
              "    }\n",
              "\n",
              "    .dataframe tbody tr th {\n",
              "        vertical-align: top;\n",
              "    }\n",
              "\n",
              "    .dataframe thead th {\n",
              "        text-align: right;\n",
              "    }\n",
              "</style>\n",
              "<table border=\"1\" class=\"dataframe\">\n",
              "  <thead>\n",
              "    <tr style=\"text-align: right;\">\n",
              "      <th></th>\n",
              "      <th>test</th>\n",
              "      <th>pred</th>\n",
              "    </tr>\n",
              "  </thead>\n",
              "  <tbody>\n",
              "    <tr>\n",
              "      <th>0</th>\n",
              "      <td>450000.0</td>\n",
              "      <td>429781.291959</td>\n",
              "    </tr>\n",
              "    <tr>\n",
              "      <th>1</th>\n",
              "      <td>509000.0</td>\n",
              "      <td>593405.757758</td>\n",
              "    </tr>\n",
              "    <tr>\n",
              "      <th>2</th>\n",
              "      <td>552000.0</td>\n",
              "      <td>491539.538984</td>\n",
              "    </tr>\n",
              "    <tr>\n",
              "      <th>3</th>\n",
              "      <td>152500.0</td>\n",
              "      <td>-900.169536</td>\n",
              "    </tr>\n",
              "    <tr>\n",
              "      <th>4</th>\n",
              "      <td>209950.0</td>\n",
              "      <td>131697.734497</td>\n",
              "    </tr>\n",
              "  </tbody>\n",
              "</table>\n",
              "</div>"
            ],
            "text/plain": [
              "       test           pred\n",
              "0  450000.0  429781.291959\n",
              "1  509000.0  593405.757758\n",
              "2  552000.0  491539.538984\n",
              "3  152500.0    -900.169536\n",
              "4  209950.0  131697.734497"
            ]
          },
          "metadata": {
            "tags": []
          },
          "execution_count": 53
        }
      ]
    }
  ]
}