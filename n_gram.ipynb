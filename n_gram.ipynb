{
  "nbformat": 4,
  "nbformat_minor": 0,
  "metadata": {
    "colab": {
      "name": "n-gram.ipynb",
      "provenance": [],
      "collapsed_sections": [],
      "authorship_tag": "ABX9TyNelFXP43BOpauyDBAt9b0j",
      "include_colab_link": true
    },
    "kernelspec": {
      "name": "python3",
      "display_name": "Python 3"
    }
  },
  "cells": [
    {
      "cell_type": "markdown",
      "metadata": {
        "id": "view-in-github",
        "colab_type": "text"
      },
      "source": [
        "<a href=\"https://colab.research.google.com/github/ptsurko/AIML-notebooks/blob/master/n_gram.ipynb\" target=\"_parent\"><img src=\"https://colab.research.google.com/assets/colab-badge.svg\" alt=\"Open In Colab\"/></a>"
      ]
    },
    {
      "cell_type": "code",
      "metadata": {
        "id": "4cA0f3cwWUHn",
        "colab_type": "code",
        "outputId": "c9502792-e3df-49b8-b262-ea5282e0f31d",
        "colab": {
          "base_uri": "https://localhost:8080/",
          "height": 87
        }
      },
      "source": [
        "from urllib.request import urlopen\n",
        "from collections import OrderedDict\n",
        "from random import random\n",
        "import math\n",
        "\n",
        "# http://computational-linguistics-class.org/assignment5.html\n",
        "# https://github.com/kanikamohan/cswingers/blob/master/hw5/hw5_skeleton.py\n",
        "# https://www.coursera.org/learn/language-processing/supplement/fdxeI/perplexity-computation\n",
        "\n",
        "\n",
        "shakespeare_url = \"http://norvig.com/ngrams/shakespeare.txt\"\n",
        "\n",
        "data = urlopen(shakespeare_url).readlines()\n",
        "train_data = data[:-16]\n",
        "# train_data = data[:4]\n",
        "test_data = data[-15:]\n",
        "train_data = map(lambda line: line.decode(\"utf-8\"), train_data)\n",
        "test_data = map(lambda line: line.decode(\"utf-8\"), test_data)\n",
        "\n",
        "dictionary = set()\n",
        "\n",
        "words = []\n",
        "for line in train_data: # files are iterable\n",
        "    line = line[:-1] # remove \\n\n",
        "    words.extend(line.split())\n",
        "\n",
        "    words.append('\\n')\n",
        "\n",
        "V = len(set(words))\n",
        "\n",
        "print('V: ', V)\n",
        "print('len(words): ', len(words))\n",
        "\n",
        "test_words = []\n",
        "for line in test_data: # files are iterable\n",
        "    line = line[:-1] # remove \\n\n",
        "    test_words.extend(line.split())\n",
        "    test_words.append('\\n')\n",
        "\n",
        "print('test_data: ', test_data)\n",
        "print('len(test_words): ', len(test_words))"
      ],
      "execution_count": 0,
      "outputs": [
        {
          "output_type": "stream",
          "text": [
            "V:  33504\n",
            "len(words):  1109602\n",
            "test_data:  <map object at 0x7f3094e82b00>\n",
            "len(test_words):  141\n"
          ],
          "name": "stdout"
        }
      ]
    },
    {
      "cell_type": "code",
      "metadata": {
        "id": "fh8jVPVSiJBH",
        "colab_type": "code",
        "colab": {}
      },
      "source": [
        "n = 5\n",
        "\n",
        "def update_model(model, context, word):\n",
        "  node = model\n",
        "  words = context + [word]\n",
        "  for w in words:\n",
        "    if w not in node:\n",
        "      node[w] = [{}, 0]\n",
        "\n",
        "    node[w][1] += 1\n",
        "    node = node[w][0]\n",
        "  \n",
        "def ngram(model, words, n=1):\n",
        "  context = ['~'] * (n - 1)\n",
        "\n",
        "  for word in words:\n",
        "    # print('context: ', context)\n",
        "    # print('word: ', word)\n",
        "    update_model(model, context, word)\n",
        "\n",
        "    if n >= 2:\n",
        "      context.pop(0)\n",
        "      context.append(word)\n",
        "    \n",
        "  return model\n",
        "\n",
        "model = dict()\n",
        "model = ngram(model, words, n)"
      ],
      "execution_count": 0,
      "outputs": []
    },
    {
      "cell_type": "code",
      "metadata": {
        "id": "3_T_z6P4wW34",
        "colab_type": "code",
        "outputId": "05976219-d245-4061-f4ec-064cf8a5b434",
        "colab": {
          "base_uri": "https://localhost:8080/",
          "height": 262
        }
      },
      "source": [
        "def get_node(model, context):\n",
        "  node = model\n",
        "  weight = None\n",
        "  for w in context:\n",
        "    if w not in node:\n",
        "      return None, 0\n",
        "    \n",
        "    weight = node[w][1]\n",
        "    node = node[w][0]\n",
        "  \n",
        "  return node, weight\n",
        "\n",
        "\n",
        "def random_text(model, n, length):\n",
        "  context = ['~'] * (n - 1)\n",
        "  text = ''\n",
        "  for _ in range(length):\n",
        "    next_words_dict, total_weight = get_node(model, context)\n",
        "    prob_weight = random() * total_weight\n",
        "\n",
        "    weight = 0\n",
        "    for word in sorted(next_words_dict.keys()):\n",
        "      weight += next_words_dict[word][1]\n",
        "      if weight >= prob_weight:\n",
        "        text += word + ' '\n",
        "        \n",
        "        if n >= 2:\n",
        "          context.pop(0)\n",
        "          context.append(word)\n",
        "        break\n",
        "\n",
        "  return text\n",
        "\n",
        "text = random_text(model, n, 60)\n",
        "print(text)"
      ],
      "execution_count": 0,
      "outputs": [
        {
          "output_type": "stream",
          "text": [
            "A MIDSUMMER-NIGHT'S DREAM \n",
            " \n",
            " Now , signior , what news ? \n",
            " \n",
            " Alcibiades banished ! \n",
            " \n",
            " Banished , sir . \n",
            " \n",
            " As well as Lewis of France , or the Earl of Warwick \n",
            " The greatest man in England but the king . \n",
            " \n",
            " Madam my interpreter , what says she ? \n",
            " \n",
            " Bait \n"
          ],
          "name": "stdout"
        }
      ]
    },
    {
      "cell_type": "code",
      "metadata": {
        "id": "t71W2gcazEE4",
        "colab_type": "code",
        "outputId": "f0ef96db-c3f2-486f-9cbd-e6a9cbc5dc79",
        "colab": {
          "base_uri": "https://localhost:8080/",
          "height": 54
        }
      },
      "source": [
        "node = get_node(model, ['in', 'his'])\n",
        "print(node)"
      ],
      "execution_count": 0,
      "outputs": [
        {
          "output_type": "stream",
          "text": [
            "({'walks': [{',': [{'and': [{}, 1]}, 1]}, 1], 'eyes': [{';': [{'\\n': [{}, 1]}, 1], ',': [{'distraction': [{}, 1]}, 1]}, 2], 'sleep': [{',': [{'\\n': [{}, 1]}, 1], 'he': [{'does': [{}, 1]}, 1]}, 2], 'esteem': [{',': [{'\\n': [{}, 1]}, 1]}, 1], 'service': [{'perishing': [{'.': [{}, 1]}, 1], ';': [{'you': [{}, 1]}, 1], '.': [{'\\n': [{}, 1]}, 1]}, 3], 'profession': [{',': [{'and': [{}, 1]}, 1]}, 1], 'sphere': [{'.': [{'\\n': [{}, 1]}, 1], ',': [{'\\n': [{}, 1]}, 1]}, 2], 'pride': [{'or': [{'sharpness': [{}, 1]}, 1], '.': [{'\\n': [{}, 2]}, 2]}, 3], 'virtue': [{',': [{'which': [{}, 1]}, 1]}, 1], 'power': [{'against': [{'you': [{}, 1]}, 1], 'to': [{'bring': [{}, 1]}, 1], '.': [{'You': [{}, 1]}, 1]}, 3], 'house': [{'\\n': [{'From': [{}, 1], 'I': [{}, 1]}, 2]}, 2], 'idle': [{'fire': [{',': [{}, 1]}, 1]}, 1], 'proper': [{'stream': [{\"o'erflows\": [{}, 1]}, 1]}, 1], 'colour': [{':': [{'your': [{}, 1]}, 1]}, 1], 'will': [{'to': [{'give': [{}, 1]}, 1]}, 1], 'sides': [{'?': [{'is': [{}, 1]}, 1]}, 1], 'head': [{';': [{'\\n': [{}, 1]}, 1], ',': [{\"I'll\": [{}, 1], 'that': [{}, 1]}, 2], '.': [{'\\n': [{}, 1]}, 1]}, 4], 'brain': [{',': [{'\\n': [{}, 1]}, 1], ';': [{'\\n': [{}, 1]}, 1], ':': [{'he': [{}, 1]}, 1]}, 3], 'time': [{'plays': [{'many': [{}, 1]}, 1], 'thought': [{'false': [{}, 1]}, 1], 'of': [{'storm': [{}, 1]}, 1]}, 3], 'sound': [{'.': [{'Last': [{}, 1]}, 1]}, 1], 'sum': [{'of': [{'age': [{}, 1]}, 1]}, 1], 'youth': [{'an': [{'inland': [{}, 1]}, 1], 'that': [{'he': [{}, 1]}, 1], '.': [{'I': [{}, 1], '\\n': [{}, 1]}, 2], 'to': [{'have': [{}, 1]}, 1], 'by': [{'like': [{}, 1]}, 1]}, 6], 'lip': [{',': [{'\\n': [{}, 1]}, 1]}, 1], 'cheek': [{';': [{\"'twas\": [{}, 1]}, 1], ',': [{'he': [{}, 1]}, 1]}, 2], 'fortune': [{'and': [{'prevents': [{}, 1]}, 1]}, 1], 'own': [{'person': [{',': [{}, 1]}, 1], 'hearing': [{'.': [{}, 1]}, 1], 'chamber': [{',I': [{}, 1]}, 1], 'bringings': [{'forth': [{}, 1]}, 1], 'division': [{';': [{}, 1]}, 1], 'grease': [{'.': [{}, 1]}, 1], 'fall': [{';': [{}, 1]}, 1], 'language': [{'during': [{}, 1]}, 1], 'too-much': [{'.': [{}, 1]}, 1], 'hand': [{'bears': [{}, 1]}, 1], 'deliciousness': [{'\\n': [{}, 1]}, 1], 'wing': [{',': [{}, 1]}, 1]}, 12], 'blood': [{',': [{'unto': [{}, 1]}, 1], 'such': [{'swoln': [{}, 1]}, 1], ';': [{'\\n': [{}, 1]}, 1]}, 3], 'art': [{'and': [{'yet': [{}, 1]}, 1], ',': [{'\\n': [{}, 1]}, 1]}, 2], 'court': [{'to': [{'mart': [{}, 1]}, 1]}, 1], 'feats': [{'deserving': [{'it': [{}, 1]}, 1]}, 1], 'pocket': [{',': [{'we': [{}, 1], 'and': [{}, 1]}, 2], 'with': [{'red': [{}, 1]}, 1], '?': [{'The': [{}, 1]}, 1], '!': [{'\\n': [{}, 1]}, 1], 'too': [{';': [{}, 1]}, 1]}, 6], 'dominion': [{',': [{'could': [{}, 1]}, 1]}, 1], 'voice': [{',': [{'\\n': [{}, 1]}, 1]}, 1], 'arms': [{'\\n': [{'Of': [{}, 1]}, 1], ';': [{'\\n': [{}, 1]}, 1], '.': [{'I': [{}, 1]}, 1], ',': [{'\\n': [{}, 1], 'and': [{}, 1]}, 2]}, 5], 'place': [{'and': [{'time': [{}, 1]}, 1], ',': [{'\\n': [{}, 1]}, 1], '.': [{'\\n': [{}, 1]}, 1]}, 3], 'wars': [{'.': [{'\\n': [{}, 1]}, 1]}, 1], 'eye': [{'pride': [{\"express'd\": [{}, 1]}, 1], ',': [{'\\n': [{}, 2]}, 2], '.': [{'\\n': [{}, 1], 'Most': [{}, 1]}, 2], '\\n': [{'That': [{}, 1]}, 1], ';': [{'that': [{}, 1]}, 1], ':': [{'I': [{}, 1]}, 1]}, 8], 'eyesight': [{'to': [{'be': [{}, 1]}, 1]}, 1], 'What': [{',': [{'my': [{}, 1]}, 1]}, 1], 'letter': [{'.': [{'\\n': [{}, 1]}, 1]}, 1], 'face': [{'.': [{'\\n': [{}, 3]}, 3], ',': [{'so': [{}, 1], 'and': [{}, 1], '\\n': [{}, 1]}, 3], '?': [{'\\n': [{}, 2]}, 2], 'to': [{'contradict': [{}, 1]}, 1], 'with': [{'a': [{}, 1]}, 1], ';': [{'and': [{}, 1]}, 1], '\\n': [{'By': [{}, 1]}, 1]}, 12], 'vein': [{'.': [{'\\n': [{}, 1]}, 1]}, 1], 'manus': [{'.': [{'\\n': [{}, 1]}, 1]}, 1], 'glance': [{':': [{'\\n': [{}, 1]}, 1]}, 1], 'eminence': [{'that': [{'fills': [{}, 1]}, 1]}, 1], 'courses': [{'till': [{'thou': [{}, 1]}, 1]}, 1], 'reprieve': [{',': [{'\\n': [{}, 1]}, 1]}, 1], 'love': [{'toward': [{'her': [{}, 1]}, 1], ':': [{'he': [{}, 1]}, 1], '\\n': [{\"I'll\": [{}, 1]}, 1]}, 3], 'absence': [{';': [{'he': [{}, 1]}, 1]}, 1], 'house-eaves': [{',': [{'because': [{}, 1]}, 1]}, 1], 'office': [{'lacks': [{'a': [{}, 1]}, 1], 'ready': [{'at': [{}, 1]}, 1]}, 2], 'clothes': [{';': [{'and': [{}, 1]}, 1]}, 1], 'humour': [{'.': [{'\\n': [{}, 1]}, 1]}, 1], 'grace': [{';': [{'and': [{}, 1]}, 1]}, 1], 'purse': [{',': [{'such': [{}, 1]}, 1], 'when': [{'he': [{}, 1]}, 1]}, 2], 'wit': [{',': [{'but': [{}, 1]}, 1]}, 1], 'villany': [{';': [{'for': [{}, 1]}, 1]}, 1], 'ear': [{'that': [{'he': [{}, 1]}, 1], 'and': [{'a': [{}, 1]}, 1], \"I'll\": [{'holla': [{}, 1]}, 1], ',': [{'at': [{}, 1], '\\n': [{}, 1]}, 2]}, 5], 'age': [{'.': [{'Shall': [{}, 1]}, 1]}, 1], 'liver': [{',': [{'\\n': [{}, 1]}, 1], 'as': [{'will': [{}, 1]}, 1]}, 2], 'doublet': [{'and': [{'hose': [{}, 1]}, 1]}, 1], 'punishment': [{'.': [{'And': [{}, 1]}, 1]}, 1], 'hand': [{',': [{'\\n': [{}, 3]}, 3], '\\n': [{'By': [{}, 1]}, 1], ';': [{'\\n': [{}, 1]}, 1], '.': [{'\\n': [{}, 1]}, 1], ':': [{'\\n': [{}, 1]}, 1]}, 7], 'belly': [{',': [{'I': [{}, 1], 'ashore': [{}, 1], 'and': [{}, 1], 'that': [{}, 1]}, 4], '.': [{'Hold': [{}, 1]}, 1]}, 5], 'device': [{'.': [{'\\n': [{}, 1]}, 1]}, 1], 'just': [{'commend': [{';': [{}, 1]}, 1]}, 1], 'grave': [{'he': [{'rest': [{}, 1]}, 1], ',': [{'Assure': [{}, 1], '\\n': [{}, 1]}, 2], \"rain'd\": [{'many': [{}, 1]}, 1], ';': [{'\\n': [{}, 1]}, 1]}, 5], 'throat': [{',': [{'unless': [{}, 1]}, 1]}, 1], 'barge': [{'with': [{'fervour': [{}, 1]}, 1]}, 1], 'recovery': [{',': [{'\\n': [{}, 1]}, 1]}, 1], 'palace': [{'burn': [{':': [{}, 1]}, 1]}, 1], 'porridge': [{'.': [{'\\n': [{}, 1]}, 1]}, 1], 'blows': [{',': [{'\\n': [{}, 1]}, 1]}, 1], 'desk': [{'?': [{'\\n': [{}, 1]}, 1]}, 1], 'shop': [{'\\n': [{'And': [{}, 1]}, 1]}, 1], 'true': [{'sense': [{'again': [{}, 1]}, 1], 'likeness': [{'.': [{}, 1], ',': [{}, 1]}, 2], 'colours': [{',': [{}, 1]}, 1]}, 4], 'ecstasy': [{'!': [{'\\n': [{}, 1]}, 1], ',': [{'\\n': [{}, 1]}, 1]}, 2], 'perfect': [{'wits': [{'.': [{}, 1]}, 1]}, 1], 'company': [{'that': [{'gentleman': [{}, 1]}, 1], 'at': [{\"Page's\": [{}, 1]}, 1]}, 2], 'mouth': [{'than': [{'to': [{}, 1]}, 1], 'as': [{'household': [{}, 1]}, 1]}, 2], 'behalf': [{',': [{'\\n': [{}, 1], 'and': [{}, 1]}, 2], '\\n': [{'Is': [{}, 1]}, 1], 'as': [{'you': [{}, 1]}, 1]}, 4], 'ship': [{'.': [{'\\n': [{}, 1]}, 1]}, 1], 'plain': [{'meaning': [{':': [{}, 1]}, 1]}, 1], 'memory': [{'\\n': [{'An': [{}, 1]}, 1]}, 1], 'lady': [{',': [{'\\n': [{}, 1]}, 1]}, 1], 'motion': [{'like': [{'an': [{}, 1]}, 1]}, 1], 'country': [{',': [{'simple': [{}, 1]}, 1]}, 1], 'gait': [{'?': [{'\\n': [{}, 1]}, 1]}, 1], 'hands': [{'above': [{';': [{}, 1]}, 1]}, 1], 'suit': [{',': [{'and': [{}, 1]}, 1], 'he': [{\"scorn'd\": [{}, 1]}, 1]}, 2], 'intent': [{'towards': [{'our': [{}, 1]}, 1]}, 1], 'pate': [{'or': [{'money': [{}, 1]}, 1]}, 1], 'rapier': [{'.': [{'\\n': [{}, 1]}, 1]}, 1], 'buttons': [{';': [{'he': [{}, 1]}, 1]}, 1], 'fortunes': [{'with': [{'the': [{}, 1]}, 1]}, 1], 'jealousy': [{'till': [{'now': [{}, 1]}, 1]}, 1], 'accidence': [{'.': [{'\\n': [{}, 1]}, 1]}, 1], 'old': [{'lunes': [{'again': [{}, 1]}, 1], 'feeble': [{'body': [{}, 1]}, 1]}, 2], 'ropetricks': [{'.': [{\"I'll\": [{}, 1]}, 1]}, 1], 'waning': [{'age': [{'\\n': [{}, 1]}, 1]}, 1], 'mad': [{'attire': [{'.': [{}, 1]}, 1]}, 1], 'knotty': [{'entrails': [{'till': [{}, 1]}, 1]}, 1], 'fit': [{'now': [{'and': [{}, 1]}, 1]}, 1], 'tail': [{'.': [{'\\n': [{}, 1]}, 1]}, 1], 'tale': [{',': [{'by': [{}, 1]}, 1], 'lay': [{'death': [{}, 1]}, 1]}, 2], 'manners': [{'As': [{'in': [{}, 1]}, 1]}, 1], 'shape': [{'.Go': [{',': [{}, 1]}, 1]}, 1], 'royal': [{'court': [{'.': [{}, 1]}, 1], 'lists': [{'?': [{}, 1]}, 1]}, 2], 'pilgrimage': [{';': [{'\\n': [{}, 2]}, 2]}, 2], 'intended': [{'drift': [{',': [{}, 1]}, 1]}, 1], 'dispraise': [{',': [{'\\n': [{}, 1]}, 1]}, 1], 'idolatry': [{',': [{'\\n': [{}, 1]}, 1]}, 1], 'parties': [{',': [{'his': [{}, 1]}, 1]}, 1], 'strength': [{',': [{'a': [{}, 1]}, 1]}, 1], 'tears': [{',': [{'an': [{}, 1]}, 1], '.': [{'\\n': [{}, 1]}, 1]}, 2], 'tent': [{'\\n': [{'Lies': [{}, 1]}, 1], ':': [{'\\n': [{}, 1]}, 1], '?': [{'\\n': [{}, 1]}, 1], ',': [{'\\n': [{}, 2]}, 2]}, 5], 'hamstring': [{',': [{'and': [{}, 1]}, 1]}, 1], 'challenge': [{':': [{'Ajax': [{}, 1]}, 1]}, 1], 'circumstance': [{'expressly': [{'proves': [{}, 1]}, 1]}, 1], 'wantonness': [{'!': [{'\\n': [{}, 1]}, 1], '.': [{'\\n': [{}, 1]}, 1]}, 2], 'weeds': [{'of': [{'peace': [{}, 1]}, 1]}, 1], 'hardiment': [{',': [{'\\n': [{}, 1]}, 1]}, 1], 'tongue': [{';': [{'\\n': [{}, 1]}, 1]}, 1], 'blaze': [{'of': [{'wrath': [{}, 1]}, 1]}, 1], 'bed': [{'\\n': [{'Of': [{}, 1], 'Did': [{}, 1]}, 2], ',': [{'walks': [{}, 1], 'wash': [{}, 1], 'my': [{}, 1]}, 3], '?': [{'where': [{}, 1], '\\n': [{}, 1]}, 2]}, 7], 'helm': [{':': [{'I': [{}, 1]}, 1]}, 1], 'death': [{'the': [{'gods': [{}, 1]}, 1], '.': [{'\\n': [{}, 2]}, 2], ',': [{'shall': [{}, 1]}, 1], '\\n': [{'To': [{}, 1]}, 1], 'were': [{'perfect': [{}, 1]}, 1], 'that': [{'you': [{}, 1]}, 1]}, 7], 'favours': [{'?': [{'\\n': [{}, 1]}, 1]}, 1], 'affairs': [{',': [{'unless': [{}, 1]}, 1]}, 1], 'way': [{'some': [{'obscure': [{}, 1]}, 1], ',': [{'and': [{}, 1], '\\n': [{}, 1]}, 2]}, 3], 'next': [{'commodity': [{'of': [{}, 1]}, 1]}, 1], 'visage': [{'no': [{'great': [{}, 1]}, 1]}, 1], \"master's\": [{'spite': [{'.': [{}, 1]}, 1]}, 1], 'case': [{'may': [{'do': [{}, 1]}, 1]}, 1], 'revenges': [{'.': [{'\\n': [{}, 1]}, 1]}, 1], 'slumber': [{'.': [{'A': [{}, 1]}, 1]}, 1], 'last': [{'sickness': [{\"fail'd\": [{}, 1]}, 1]}, 1], 'displeasure': [{'.': [{'\\n': [{}, 1]}, 1]}, 1], 'opinions': [{',': [{'which': [{}, 1]}, 1]}, 1], 'bedchamber': [{'.': [{'\\n': [{}, 1]}, 1]}, 1], 'countenance': [{'.': [{'You': [{}, 1]}, 1]}, 1], 'musings': [{':': [{'but': [{}, 1]}, 1]}, 1], 'end': [{',': [{'\\n': [{}, 1]}, 1]}, 1], \"highness'\": [{'favour': [{',': [{}, 1]}, 1], 'name': [{',': [{}, 1], ';': [{}, 1]}, 2]}, 3], 'coat': [{'of': [{'arms': [{}, 1]}, 1], 'I': [{'will': [{}, 1]}, 1]}, 2], 'words': [{'and': [{'meaning': [{}, 1]}, 1]}, 1], 'ashes': [{'honour': [{'.': [{}, 1]}, 1]}, 1], 'private': [{'conscience': [{'and': [{}, 1]}, 1]}, 1], 'vocation': [{'.': [{'Poins': [{}, 1]}, 1]}, 1], 'life': [{'than': [{\"'Eight\": [{}, 1]}, 1], 'before': [{'.': [{}, 1]}, 1], ',': [{'against': [{}, 1], '\\n': [{}, 3]}, 4], ';': [{'giving': [{}, 1]}, 1], '\\n': [{'Felt': [{}, 1], 'Became': [{}, 1], 'That': [{}, 1]}, 3]}, 10], 'looks': [{'.': [{'If': [{}, 1], '\\n': [{}, 1]}, 2]}, 2], 'secret': [{'doom': [{',': [{}, 1]}, 1]}, 1], 'enterprises': [{'\\n': [{'Discomfited': [{}, 1]}, 1]}, 1], 'robes': [{',': [{'burning': [{}, 1]}, 1]}, 1], 'unlucky': [{'Irish': [{'wars': [{}, 1]}, 1]}, 1], 'coats': [{'.': [{'\\n': [{}, 1]}, 1]}, 1], ',': [{'willingly': [{',': [{}, 1]}, 1]}, 1], 'troop': [{',': [{'\\n': [{}, 1]}, 1]}, 1], 'revenge': [{'.': [{'\\n': [{}, 2]}, 2]}, 2], 'bosom': [{'spend': [{'my': [{}, 1]}, 1], '.': [{'\\n': [{}, 1]}, 1], '\\n': [{'That': [{}, 1]}, 1], ',': [{'and': [{}, 1]}, 1]}, 4], 'breast': [{',': [{'\\n': [{}, 1]}, 1], ';': [{'\\n': [{}, 1]}, 1]}, 2], 'litter': [{',': [{'sick': [{}, 1]}, 1]}, 1], 'heart': [{',': [{'and': [{}, 1], '\\n': [{}, 1]}, 2], ';': [{'and': [{}, 1]}, 1], '\\n': [{'Than': [{}, 1]}, 1]}, 4], \"father's\": [{'arms': [{':': [{}, 1]}, 1], 'sight': [{'.': [{}, 1]}, 1], 'honour': [{',': [{}, 1]}, 1]}, 3], 'right': [{',': [{'we': [{}, 1]}, 1], 'wits': [{'and': [{}, 1]}, 1]}, 2], 'course': [{'and': [{'plays': [{}, 1]}, 1]}, 1], 'name': [{'religiously': [{'demand': [{}, 1]}, 1], ',': [{'\\n': [{}, 1]}, 1]}, 2], 'utmost': [{'force': [{'.': [{}, 1]}, 1]}, 1], 'prisonment': [{'.': [{'\\n': [{}, 1]}, 1]}, 1], 'den': [{'\\n': [{'And': [{}, 1]}, 1]}, 1], 'forehead': [{'sits': [{'\\n': [{}, 1]}, 1]}, 1], 'faculty': [{'.': [{'\\n': [{}, 1]}, 1]}, 1], 'conscience': [{',': [{'\\n': [{}, 1]}, 1]}, 1], 'majesty': [{',': [{'surveys': [{}, 1]}, 1]}, 1], 'mercy': [{'!': [{'Hear': [{}, 1]}, 1]}, 1], 'peard': [{':': [{'he': [{}, 1]}, 1]}, 1], 'praise': [{'and': [{'began': [{}, 1]}, 1], '\\n': [{'Have': [{}, 1]}, 1]}, 2], 'nakedness': [{'he': [{'appears': [{}, 1]}, 1]}, 1], 'prains': [{',': [{'did': [{}, 1]}, 1]}, 1], 'ales': [{'and': [{'his': [{}, 2]}, 2]}, 2], 'cap': [{',which': [{'he': [{}, 1]}, 1], ':': [{'I': [{}, 1]}, 1], ',': [{'and': [{}, 1]}, 1]}, 3], \"majesty's\": [{'name': [{',': [{}, 1]}, 1]}, 1], 'answer': [{'.': [{'\\n': [{}, 1]}, 1]}, 1], 'glass': [{'for': [{'love': [{}, 1]}, 1]}, 1], 'camp': [{',': [{'\\n': [{}, 1]}, 1]}, 1], 'troops': [{';': [{'\\n': [{}, 1]}, 1]}, 1], 'flight': [{',': [{'\\n': [{}, 1]}, 1]}, 1], 'thoughts': [{',': [{'\\n': [{}, 1]}, 1]}, 1], 'nose': [{',': [{'of': [{}, 1], '\\n': [{}, 1]}, 2]}, 2], 'parliament': [{';': [{'\\n': [{}, 1]}, 1]}, 1], 'affection': [{'\\n': [{'Than': [{}, 1]}, 1]}, 1], 'particular': [{'.': [{'\\n': [{}, 1]}, 1], 'act': [{'and': [{}, 1]}, 1]}, 2], 'shoulders': [{'.': [{'O': [{}, 1]}, 1]}, 1], 'tomb': [{'lie': [{'my': [{}, 1]}, 1]}, 1], 'infancy': [{'\\n': [{'Been': [{}, 1]}, 1]}, 1], 'childish': [{'fist': [{',': [{}, 1]}, 1]}, 1], 'simple': [{'show': [{'he': [{}, 1]}, 1]}, 1], 'protectorship': [{',': [{'\\n': [{}, 1]}, 1]}, 1], 'rancorous': [{'heart': [{'\\n': [{}, 1]}, 1]}, 1], 'banishment': [{'.': [{'\\n': [{}, 1]}, 1]}, 1], 'smoking': [{'blood': [{',': [{}, 1]}, 1]}, 1], 'former': [{'state': [{'.': [{}, 1]}, 1]}, 1], 'moan': [{'the': [{'ship': [{}, 1]}, 1]}, 1], 'high': [{'disgrace': [{',': [{}, 1]}, 1]}, 1], 'sight': [{',': [{'\\n': [{}, 1]}, 1]}, 1], \"physician's\": [{'mind': [{'\\n': [{}, 1]}, 1]}, 1], 'clouds': [{'on': [{'our': [{}, 1]}, 1]}, 1], 'dishonour': [{'lies': [{':': [{}, 1]}, 1]}, 1], 'thought': [{'that': [{'I': [{}, 1]}, 1], '\\n': [{'Too': [{}, 1]}, 1]}, 2], 'great': [{'affairs': [{',': [{}, 1]}, 1], 'office': [{',': [{}, 1]}, 1]}, 2], 'garments': [{';': [{'and': [{}, 1]}, 1]}, 1], 'nonage': [{'council': [{'under': [{}, 1]}, 1]}, 1], 'full': [{'and': [{\"ripen'd\": [{}, 1]}, 1]}, 1], 'growth': [{'.': [{'\\n': [{}, 1]}, 1]}, 1], 'lineaments': [{',': [{'\\n': [{}, 1]}, 1]}, 1], 'unlawful': [{'bed': [{',': [{}, 1]}, 1]}, 1], 'dearest': [{'need': [{'will': [{}, 1]}, 1]}, 1], 'lightness': [{'.': [{'If': [{}, 1]}, 1]}, 1], 'act': [{':': [{'I': [{}, 1]}, 1]}, 1], 'offence': [{'\\n': [{'Should': [{}, 1]}, 1]}, 1], 'Armenia': [{',': [{'\\n': [{}, 1]}, 1]}, 1], 'triumph': [{',': [{'since': [{}, 1]}, 1], '.': [{'\\n': [{}, 1]}, 1]}, 2], 'livery': [{'\\n': [{\"Walk'd\": [{}, 1]}, 1]}, 1], 'nature': [{',': [{'you': [{}, 1]}, 1]}, 1], 'person': [{'wrought': [{'\\n': [{}, 1]}, 1]}, 1], 'state': [{',': [{'as': [{}, 1]}, 1]}, 1], 'fall': [{'.': [{'But': [{}, 1]}, 1]}, 1], 'reply': [{'.': [{'\\n': [{}, 1]}, 1]}, 1], 'soul': [{'\\n': [{\"O'er\": [{}, 1]}, 1]}, 1], 'retirement': [{'marvellous': [{'distempered': [{}, 1]}, 1]}, 1], 'rage': [{',': [{'\\n': [{}, 1]}, 1], 'will': [{'doom': [{}, 1]}, 1]}, 2], 'habit': [{'as': [{'he': [{}, 1]}, 1]}, 1], 'brainish': [{'apprehension': [{',': [{}, 1]}, 1]}, 1], 'clutch': [{',': [{'\\n': [{}, 1]}, 1]}, 1], 'meed': [{\"he's\": [{'unfellowed': [{}, 1]}, 1]}, 1], 'arrest': [{',O': [{'!': [{}, 1]}, 1]}, 1], 'gravity': [{'.': [{'\\n': [{}, 1]}, 1]}, 1], 'funeral': [{':': [{'\\n': [{}, 1]}, 1]}, 1], 'sayings': [{'.': [{'\\n': [{}, 1]}, 1]}, 1], 'closet': [{',': [{\"'tis\": [{}, 1]}, 1]}, 1], 'sacred': [{'blood': [{',': [{}, 1]}, 1]}, 1], 'mantle': [{'muffling': [{'up': [{}, 1]}, 1]}, 1], 'red': [{'blood': [{\"Cassius'\": [{}, 1]}, 1]}, 1], 'messenger': [{',': [{'\\n': [{}, 1]}, 1]}, 1], 'legs': [{'.': [{'\\n': [{}, 1]}, 1]}, 1], 'haste': [{',': [{'half': [{}, 1]}, 1]}, 1], 'little': [{'world': [{'of': [{}, 1]}, 1]}, 1], 'pew': [{';': [{'set': [{}, 1]}, 1]}, 1], 'better': [{'tune': [{',': [{}, 1]}, 1]}, 1], 'abused': [{'nature': [{'!': [{}, 1]}, 1]}, 1], 'defence': [{'.': [{'\\n': [{}, 1]}, 1]}, 1], \"kingdom's\": [{'great': [{'defence': [{}, 1]}, 1]}, 1], \"country's\": [{'wrack': [{',': [{}, 1]}, 1]}, 1], 'commendations': [{'I': [{'am': [{}, 1]}, 1]}, 1], 'royalty': [{'of': [{'nature': [{}, 1]}, 1]}, 1], 'line': [{'.': [{'No': [{}, 1]}, 1]}, 1], 'effect': [{'a': [{'voice': [{}, 1]}, 1]}, 1], 'mind': [{',': [{'\\n': [{}, 1]}, 1]}, 1], 'drinking': [{'?': [{'\\n': [{}, 1]}, 1]}, 1], 'mood': [{',': [{'a': [{}, 1]}, 1]}, 1], 'government': [{'.': [{'\\n': [{}, 1]}, 1]}, 1], 'drink': [{'\\n': [{'Could': [{}, 1]}, 1]}, 1], 'shirt': [{',': [{'with': [{}, 1]}, 1]}, 1], 'chamber': [{'pens': [{'himself': [{}, 1]}, 1]}, 1], 'view': [{',': [{'\\n': [{}, 1]}, 1]}, 1], 'death-bed': [{'lie': [{',': [{}, 1]}, 1]}, 1], \"mistress'\": [{'circle': [{'\\n': [{}, 1]}, 1], 'name': [{'\\n': [{}, 1]}, 1]}, 2], 'twisted': [{'gyves': [{',': [{}, 1]}, 1]}, 1], 'beard': [{'than': [{'thou': [{}, 1]}, 1]}, 1], 'look': [{',': [{'\\n': [{}, 1]}, 1]}, 1], 'wisdom': [{'hastes': [{'our': [{}, 1]}, 1]}, 1], 'shroud': [{';': [{'\\n': [{}, 1], 'where': [{}, 1]}, 2]}, 2], 'throne': [{';': [{'\\n': [{}, 1]}, 1]}, 1], 'needy': [{'shop': [{'a': [{}, 1]}, 1]}, 1], 'calamities': [{'.': [{'\\n': [{}, 1]}, 1]}, 1], 'judgment': [{'that': [{'makes': [{}, 1]}, 1]}, 1], 'glistering': [{'coach': [{',': [{}, 1]}, 1]}, 1], 'brinish': [{'bowels': [{'swallow': [{}, 1]}, 1]}, 1], \"brother's\": [{'hearing': [{'.': [{}, 1]}, 1]}, 1], 'wreaks': [{',': [{'\\n': [{}, 1]}, 1]}, 1]}, 440)\n"
          ],
          "name": "stdout"
        }
      ]
    },
    {
      "cell_type": "code",
      "metadata": {
        "id": "3SB3i15ZEO3s",
        "colab_type": "code",
        "outputId": "3e0c315e-e2a9-4077-b648-93226d04c5e6",
        "colab": {
          "base_uri": "https://localhost:8080/",
          "height": 72
        }
      },
      "source": [
        "def prob(model, context, word, V):\n",
        "  node_prev, weight_prev = get_node(model, context)\n",
        "  node, weight = get_node(model, context + [word])\n",
        "  prob = (weight + 1) / (weight_prev + V)\n",
        "  return prob\n",
        "\n",
        "def perplexity(model, n, words):\n",
        "  V = len(set(words))\n",
        "\n",
        "  context = ['~'] * (n - 1)\n",
        "  p = 1\n",
        "\n",
        "  for word in words:\n",
        "    p *= prob(model, context, word, V)\n",
        "\n",
        "    if n >= 2:\n",
        "      context.pop(0)\n",
        "      context.append(word)\n",
        "  total = p ** (-1/len(words))\n",
        "\n",
        "  return total\n",
        "\n",
        "print(test_words)\n",
        "print('perplexity: ', perplexity(model, n, test_words))"
      ],
      "execution_count": 0,
      "outputs": [
        {
          "output_type": "stream",
          "text": [
            "['Some', 'loving', 'friends', 'convey', 'the', 'emperor', 'hence', ',', '\\n', 'And', 'give', 'him', 'burial', 'in', 'his', \"father's\", 'grave', '.', '\\n', 'My', 'father', 'and', 'Lavinia', 'shall', 'forthwith', '\\n', 'Be', 'closed', 'in', 'our', \"household's\", 'monument', '.', '\\n', 'As', 'for', 'that', 'heinous', 'tiger', ',', 'Tamora', ',', '\\n', 'No', 'funeral', 'rite', ',', 'nor', 'man', 'in', 'mournful', 'weeds', ',', '\\n', 'No', 'mournful', 'bell', 'shall', 'ring', 'her', 'burial', ';', '\\n', 'But', 'throw', 'her', 'forth', 'to', 'beasts', 'and', 'birds', 'of', 'prey', '.', '\\n', 'Her', 'life', 'was', 'beast-like', ',', 'and', 'devoid', 'of', 'pity', ';', '\\n', 'And', ',', 'being', 'so', ',', 'shall', 'have', 'like', 'want', 'of', 'pity', '.', '\\n', 'See', 'justice', 'done', 'on', 'Aaron', ',', 'that', \"damn'd\", 'Moor', ',', '\\n', 'By', 'whom', 'our', 'heavy', 'haps', 'had', 'their', 'beginning', ':', '\\n', 'Then', ',', 'afterwards', ',', 'to', 'order', 'well', 'the', 'state', ',', '\\n', 'That', 'like', 'events', 'may', \"ne'er\", 'it', 'ruinate', '.', '\\n', '\\n']\n"
          ],
          "name": "stdout"
        },
        {
          "output_type": "execute_result",
          "data": {
            "text/plain": [
              "88.98651591262461"
            ]
          },
          "metadata": {
            "tags": []
          },
          "execution_count": 19
        }
      ]
    }
  ]
}